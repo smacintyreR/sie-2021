{
 "cells": [
  {
   "cell_type": "markdown",
   "id": "be464f5c",
   "metadata": {},
   "source": [
    "# Siemens Energy Coding Challenge - Task 1 - 2021"
   ]
  },
  {
   "cell_type": "markdown",
   "id": "b3efb452",
   "metadata": {},
   "source": [
    "This jupyter notebook contains the code related to task 1, as specified below:"
   ]
  },
  {
   "cell_type": "code",
   "execution_count": null,
   "id": "4cf5e0d3",
   "metadata": {},
   "outputs": [],
   "source": []
  }
 ],
 "metadata": {
  "kernelspec": {
   "display_name": "venv",
   "language": "python",
   "name": "venv"
  },
  "language_info": {
   "codemirror_mode": {
    "name": "ipython",
    "version": 3
   },
   "file_extension": ".py",
   "mimetype": "text/x-python",
   "name": "python",
   "nbconvert_exporter": "python",
   "pygments_lexer": "ipython3",
   "version": "3.7.3"
  }
 },
 "nbformat": 4,
 "nbformat_minor": 5
}
